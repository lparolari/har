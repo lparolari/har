{
 "metadata": {
  "orig_nbformat": 2,
  "kernelspec": {
   "name": "python3",
   "display_name": "Python 3",
   "language": "python"
  }
 },
 "nbformat": 4,
 "nbformat_minor": 2,
 "cells": [
  {
   "cell_type": "code",
   "execution_count": 32,
   "metadata": {},
   "outputs": [
    {
     "output_type": "stream",
     "name": "stdout",
     "text": [
      "            0         1         2         3         4         5         6    \\\n0     -6.000000 -6.000000 -6.000000 -6.000000 -6.000000 -6.000000 -6.000000   \n1     -6.000000 -6.000000 -6.000000 -5.202411 -6.000000 -6.000000 -6.000000   \n2     -5.760217 -5.757227 -6.000000 -6.000000 -6.000000 -5.468414 -6.000000   \n3     -5.638721 -6.000000 -6.000000 -5.632910 -6.000000 -6.000000 -6.000000   \n4     -6.000000 -5.516357 -6.000000 -6.000000 -6.000000 -6.000000 -5.706641   \n...         ...       ...       ...       ...       ...       ...       ...   \n21919  0.000000  0.000000 -0.905273  0.000000  1.000000 -1.835531 -5.000000   \n21920 -1.000000 -0.674072  0.000000 -4.334269 -4.000000 -4.000000 -2.653239   \n21921 -4.159871 -4.415894 -3.000000 -1.407572 -1.596598 -2.000000 -1.000000   \n21922 -2.710205 -1.706630 -2.000000 -2.000000 -1.000000 -0.692348  0.000000   \n21923 -2.000000 -1.000000 -1.000000  0.000000  0.000000  0.000000  0.000000   \n\n            7         8         9    ...  362  363  364  365  366  367  368  \\\n0     -6.000000 -6.000000 -6.000000  ...  0.0  0.0  0.0  0.0  0.0  0.0  0.0   \n1     -6.000000 -5.735986 -5.218424  ...  0.0  0.0  0.0  0.0  0.0  0.0  0.0   \n2     -6.000000 -6.000000 -5.258350  ...  0.0  0.0  0.0  0.0  0.0  0.0  0.0   \n3     -6.000000 -5.080367 -6.000000  ...  0.0  0.0  0.0  0.0  0.0  0.0  0.0   \n4     -6.000000 -6.000000 -6.000000  ...  0.0  0.0  0.0  0.0  0.0  0.0  0.0   \n...         ...       ...       ...  ...  ...  ...  ...  ...  ...  ...  ...   \n21919 -5.000000 -3.000000 -2.000000  ...  0.0  0.0  0.0  0.0  0.0  0.0  0.0   \n21920 -1.000000 -2.000000 -1.000000  ...  0.0  0.0  0.0  0.0  0.0  0.0  0.0   \n21921  0.000000  0.000000  0.000000  ...  0.0  0.0  0.0  0.0  0.0  0.0  0.0   \n21922  0.000000  0.000000  0.000000  ...  0.0  0.0  0.0  0.0  0.0  0.0  0.0   \n21923 -0.463937  0.000000  0.456787  ...  0.0  0.0  0.0  0.0  0.0  0.0  0.0   \n\n       369       370  371  \n0      0.0  0.000000  0.0  \n1      0.0  0.000000  0.0  \n2      0.0  0.000000  0.0  \n3      0.0  0.000000  0.0  \n4      0.0  0.000000  0.0  \n...    ...       ...  ...  \n21919  0.0  0.000000  0.0  \n21920  0.0  0.000000  0.0  \n21921  0.0 -0.170227  0.0  \n21922  0.0  0.000000  0.0  \n21923  0.0  0.000000  0.0  \n\n[21924 rows x 372 columns]\n"
     ]
    }
   ],
   "source": [
    "from sklearn.model_selection import train_test_split\n",
    "import pandas as pd\n",
    "import numpy as np\n",
    "import matplotlib.pyplot as plt\n",
    "\n",
    "data_df = pd.read_csv('./datasets/heterogenity/original/dataset_25_2.5.csv', header=None)\n",
    "\n",
    "print(data_df)\n"
   ]
  },
  {
   "cell_type": "code",
   "execution_count": 33,
   "metadata": {},
   "outputs": [
    {
     "output_type": "stream",
     "name": "stdout",
     "text": [
      "      user    device     gt\n0        a  nexus4_1  stand\n1        a  nexus4_1  stand\n2        a  nexus4_1  stand\n3        a  nexus4_1  stand\n4        a  nexus4_1  stand\n...    ...       ...    ...\n21919    i  s3mini_2   walk\n21920    i  s3mini_2   walk\n21921    i  s3mini_2   walk\n21922    i  s3mini_2   walk\n21923    i  s3mini_2   walk\n\n[21924 rows x 3 columns]\n"
     ]
    }
   ],
   "source": [
    "label_df = pd.read_csv('./datasets/heterogenity/original/dataset_labels_25_2.5.csv')\n",
    "print(label_df)"
   ]
  },
  {
   "cell_type": "code",
   "execution_count": 34,
   "metadata": {},
   "outputs": [
    {
     "output_type": "stream",
     "name": "stdout",
     "text": [
      "              0         1         2         3         4         5         6  \\\n0     -6.000000 -6.000000 -6.000000 -6.000000 -6.000000 -6.000000 -6.000000   \n1     -6.000000 -6.000000 -6.000000 -5.202411 -6.000000 -6.000000 -6.000000   \n2     -5.760217 -5.757227 -6.000000 -6.000000 -6.000000 -5.468414 -6.000000   \n3     -5.638721 -6.000000 -6.000000 -5.632910 -6.000000 -6.000000 -6.000000   \n4     -6.000000 -5.516357 -6.000000 -6.000000 -6.000000 -6.000000 -5.706641   \n...         ...       ...       ...       ...       ...       ...       ...   \n21919  0.000000  0.000000 -0.905273  0.000000  1.000000 -1.835531 -5.000000   \n21920 -1.000000 -0.674072  0.000000 -4.334269 -4.000000 -4.000000 -2.653239   \n21921 -4.159871 -4.415894 -3.000000 -1.407572 -1.596598 -2.000000 -1.000000   \n21922 -2.710205 -1.706630 -2.000000 -2.000000 -1.000000 -0.692348  0.000000   \n21923 -2.000000 -1.000000 -1.000000  0.000000  0.000000  0.000000  0.000000   \n\n              7         8         9  ...  365  366  367  368  369       370  \\\n0     -6.000000 -6.000000 -6.000000  ...  0.0  0.0  0.0  0.0  0.0  0.000000   \n1     -6.000000 -5.735986 -5.218424  ...  0.0  0.0  0.0  0.0  0.0  0.000000   \n2     -6.000000 -6.000000 -5.258350  ...  0.0  0.0  0.0  0.0  0.0  0.000000   \n3     -6.000000 -5.080367 -6.000000  ...  0.0  0.0  0.0  0.0  0.0  0.000000   \n4     -6.000000 -6.000000 -6.000000  ...  0.0  0.0  0.0  0.0  0.0  0.000000   \n...         ...       ...       ...  ...  ...  ...  ...  ...  ...       ...   \n21919 -5.000000 -3.000000 -2.000000  ...  0.0  0.0  0.0  0.0  0.0  0.000000   \n21920 -1.000000 -2.000000 -1.000000  ...  0.0  0.0  0.0  0.0  0.0  0.000000   \n21921  0.000000  0.000000  0.000000  ...  0.0  0.0  0.0  0.0  0.0 -0.170227   \n21922  0.000000  0.000000  0.000000  ...  0.0  0.0  0.0  0.0  0.0  0.000000   \n21923 -0.463937  0.000000  0.456787  ...  0.0  0.0  0.0  0.0  0.0  0.000000   \n\n       371  user    device     gt  \n0      0.0     a  nexus4_1  stand  \n1      0.0     a  nexus4_1  stand  \n2      0.0     a  nexus4_1  stand  \n3      0.0     a  nexus4_1  stand  \n4      0.0     a  nexus4_1  stand  \n...    ...   ...       ...    ...  \n21919  0.0     i  s3mini_2   walk  \n21920  0.0     i  s3mini_2   walk  \n21921  0.0     i  s3mini_2   walk  \n21922  0.0     i  s3mini_2   walk  \n21923  0.0     i  s3mini_2   walk  \n\n[21924 rows x 375 columns]\n"
     ]
    }
   ],
   "source": [
    "dataset_df = pd.concat([data_df,label_df], axis=1)\n",
    "print(dataset_df)"
   ]
  },
  {
   "cell_type": "code",
   "execution_count": 35,
   "metadata": {},
   "outputs": [
    {
     "output_type": "stream",
     "name": "stdout",
     "text": [
      "             0          1         2         3         4         5         6  \\\n0    -6.000000  -6.000000 -6.000000 -6.000000 -6.000000 -6.000000 -6.000000   \n1    -6.000000  -6.000000 -6.000000 -5.202411 -6.000000 -6.000000 -6.000000   \n2    -5.760217  -5.757227 -6.000000 -6.000000 -6.000000 -5.468414 -6.000000   \n3    -5.638721  -6.000000 -6.000000 -5.632910 -6.000000 -6.000000 -6.000000   \n4    -6.000000  -5.516357 -6.000000 -6.000000 -6.000000 -6.000000 -5.706641   \n...        ...        ...       ...       ...       ...       ...       ...   \n7051 -4.000000 -11.555243 -7.458287 -5.377486 -4.495958 -4.000000 -3.000000   \n7052 -4.000000  -1.462500 -4.193182 -9.000000 -9.975000 -7.000000 -6.537500   \n7053 -4.000000  -6.548433 -9.390788 -9.000000 -8.000000 -7.000000 -6.000000   \n7054 -4.000000  -4.000000 -4.000000 -4.000000 -4.000000 -5.000000 -5.000000   \n7055 -5.000000  -4.345211 -4.000000 -4.436854 -5.000000 -4.000000 -5.000000   \n\n             7         8         9  ...  365  366  367  368  369  370  371  \\\n0    -6.000000 -6.000000 -6.000000  ...  0.0  0.0  0.0  0.0  0.0  0.0  0.0   \n1    -6.000000 -5.735986 -5.218424  ...  0.0  0.0  0.0  0.0  0.0  0.0  0.0   \n2    -6.000000 -6.000000 -5.258350  ...  0.0  0.0  0.0  0.0  0.0  0.0  0.0   \n3    -6.000000 -5.080367 -6.000000  ...  0.0  0.0  0.0  0.0  0.0  0.0  0.0   \n4    -6.000000 -6.000000 -6.000000  ...  0.0  0.0  0.0  0.0  0.0  0.0  0.0   \n...        ...       ...       ...  ...  ...  ...  ...  ...  ...  ...  ...   \n7051 -3.000000 -4.000000 -5.000000  ...  0.0  0.0  0.0  0.0  0.0  0.0  0.0   \n7052 -7.000000 -7.000000 -6.000000  ...  0.0  0.0  0.0  0.0  0.0  0.0  0.0   \n7053 -5.465576 -5.000000 -5.000000  ...  0.0  0.0  0.0  0.0  0.0  0.0  0.0   \n7054 -7.417079 -5.564453 -7.270072  ...  0.0  0.0  0.0  0.0  0.0  0.0  0.0   \n7055 -4.415446 -3.000000 -5.990674  ...  0.0  0.0  0.0  0.0  0.0  0.0  0.0   \n\n      user    device          gt  \n0        a  nexus4_1       stand  \n1        a  nexus4_1       stand  \n2        a  nexus4_1       stand  \n3        a  nexus4_1       stand  \n4        a  nexus4_1       stand  \n...    ...       ...         ...  \n7051     c  s3mini_2        walk  \n7052     c  s3mini_2    stairsup  \n7053     c  s3mini_2  stairsdown  \n7054     c  s3mini_2  stairsdown  \n7055     c  s3mini_2        bike  \n\n[7056 rows x 375 columns]\n"
     ]
    }
   ],
   "source": [
    "test_df = dataset_df.loc[ (dataset_df['user'] == 'a') | (dataset_df['user'] == 'b') | (dataset_df['user'] == 'c')] \n",
    "print(test_df)"
   ]
  },
  {
   "cell_type": "code",
   "execution_count": 36,
   "metadata": {},
   "outputs": [
    {
     "output_type": "stream",
     "name": "stdout",
     "text": [
      "              0         1         2         3         4         5         6  \\\n7056  -2.000000 -2.000000 -2.000000 -2.000000 -2.000000 -2.000000 -2.000000   \n7057  -2.000000 -2.000000 -2.000000 -2.000000 -2.000000 -2.000000 -2.000000   \n7058  -2.000000 -2.000000 -2.000000 -2.000000 -2.000000 -2.000000 -2.000000   \n7059  -2.000000 -2.000000 -2.000000 -2.000000 -2.000000 -2.000000 -2.000000   \n7060  -2.000000 -2.000000 -2.000000 -2.000000 -2.000000 -2.000000 -2.000000   \n...         ...       ...       ...       ...       ...       ...       ...   \n21919  0.000000  0.000000 -0.905273  0.000000  1.000000 -1.835531 -5.000000   \n21920 -1.000000 -0.674072  0.000000 -4.334269 -4.000000 -4.000000 -2.653239   \n21921 -4.159871 -4.415894 -3.000000 -1.407572 -1.596598 -2.000000 -1.000000   \n21922 -2.710205 -1.706630 -2.000000 -2.000000 -1.000000 -0.692348  0.000000   \n21923 -2.000000 -1.000000 -1.000000  0.000000  0.000000  0.000000  0.000000   \n\n              7    8         9  ...  365  366  367  368  369       370  371  \\\n7056  -2.000000 -2.0 -2.000000  ...  0.0  0.0  0.0  0.0  0.0  0.000000  0.0   \n7057  -2.000000 -2.0 -2.000000  ...  0.0  0.0  0.0  0.0  0.0  0.000000  0.0   \n7058  -2.000000 -2.0 -2.000000  ...  0.0  0.0  0.0  0.0  0.0  0.000000  0.0   \n7059  -2.000000 -2.0 -2.000000  ...  0.0  0.0  0.0  0.0  0.0  0.000000  0.0   \n7060  -2.000000 -2.0 -2.000000  ...  0.0  0.0  0.0  0.0  0.0  0.000000  0.0   \n...         ...  ...       ...  ...  ...  ...  ...  ...  ...       ...  ...   \n21919 -5.000000 -3.0 -2.000000  ...  0.0  0.0  0.0  0.0  0.0  0.000000  0.0   \n21920 -1.000000 -2.0 -1.000000  ...  0.0  0.0  0.0  0.0  0.0  0.000000  0.0   \n21921  0.000000  0.0  0.000000  ...  0.0  0.0  0.0  0.0  0.0 -0.170227  0.0   \n21922  0.000000  0.0  0.000000  ...  0.0  0.0  0.0  0.0  0.0  0.000000  0.0   \n21923 -0.463937  0.0  0.456787  ...  0.0  0.0  0.0  0.0  0.0  0.000000  0.0   \n\n       user    device     gt  \n7056      d  nexus4_1  stand  \n7057      d  nexus4_1  stand  \n7058      d  nexus4_1  stand  \n7059      d  nexus4_1  stand  \n7060      d  nexus4_1  stand  \n...     ...       ...    ...  \n21919     i  s3mini_2   walk  \n21920     i  s3mini_2   walk  \n21921     i  s3mini_2   walk  \n21922     i  s3mini_2   walk  \n21923     i  s3mini_2   walk  \n\n[14868 rows x 375 columns]\n"
     ]
    }
   ],
   "source": [
    "train_df = dataset_df.loc[ (dataset_df['user'] != 'a') & (dataset_df['user'] != 'b') & (dataset_df['user'] != 'c')] \n",
    "print(train_df)"
   ]
  },
  {
   "cell_type": "code",
   "execution_count": 37,
   "metadata": {},
   "outputs": [
    {
     "output_type": "stream",
     "name": "stdout",
     "text": [
      "TRAIN SET\n\tStand:\t\t2533 (17.04%)\n\tSit:\t\t3183 (21.41%)\n\tWalk:\t\t3430 (23.07%)\n\tBike:\t\t1956 (13.16%)\n\tStairs up:\t2161 (14.53%)\n\tStairs down:\t1605 (10.79%)\n\n\tPercentage of total\t14868 (67.82%)\n\nTEST SET\n\tStand:\t\t1106 (15.67%)\n\tSit:\t\t1470 (20.83%)\n\tWalk:\t\t1512 (21.43%)\n\tBike:\t\t853 (12.09%)\n\tStairs up:\t1276 (18.08%)\n\tStairs down:\t839 (11.89%)\n\n\tPercentage of total\t7056 (32.18%)\n"
     ]
    }
   ],
   "source": [
    "def print_dataset_statistics(train_reference_df, test_reference_df):\n",
    "\n",
    "    # Count the elements in the sets\n",
    "    num_train_data = (len(train_reference_df))\n",
    "    num_train_data_stand = sum(train_reference_df['gt'] == 'stand')\n",
    "    num_train_data_sit = sum(train_reference_df['gt'] == 'sit')\n",
    "    num_train_data_walk = sum(train_reference_df['gt'] == 'walk')\n",
    "    num_train_data_bike = sum(train_reference_df['gt'] == 'bike')\n",
    "    num_train_data_stairs_up = sum(train_reference_df['gt'] == 'stairsup')\n",
    "    num_train_data_stairs_down = sum(train_reference_df['gt'] == 'stairsdown')\n",
    "\n",
    "    num_test_data = (len(test_reference_df))\n",
    "    num_test_data_stand = sum(test_reference_df['gt'] == 'stand')\n",
    "    num_test_data_sit = sum(test_reference_df['gt'] == 'sit')\n",
    "    num_test_data_walk = sum(test_reference_df['gt'] == 'walk')\n",
    "    num_test_data_bike = sum(test_reference_df['gt'] == 'bike')\n",
    "    num_test_data_stairs_up = sum(test_reference_df['gt'] == 'stairsup')\n",
    "    num_test_data_stairs_down = sum(test_reference_df['gt'] == 'stairsdown')\n",
    "\n",
    "    total_df_data = num_train_data + num_test_data\n",
    "\n",
    "    print('TRAIN SET')\n",
    "    print('\\tStand:\\t\\t{} ({:.2f}%)'.format(num_train_data_stand, 100 * num_train_data_stand / len(train_reference_df)))\n",
    "    print('\\tSit:\\t\\t{} ({:.2f}%)'.format(num_train_data_sit, 100 * num_train_data_sit / len(train_reference_df)))\n",
    "    print('\\tWalk:\\t\\t{} ({:.2f}%)'.format(num_train_data_walk, 100 * num_train_data_walk / len(train_reference_df)))\n",
    "    print('\\tBike:\\t\\t{} ({:.2f}%)'.format(num_train_data_bike, 100 * num_train_data_bike / len(train_reference_df)))\n",
    "    print('\\tStairs up:\\t{} ({:.2f}%)'.format(num_train_data_stairs_up, 100 * num_train_data_stairs_up / len(train_reference_df)))\n",
    "    print('\\tStairs down:\\t{} ({:.2f}%)'.format(num_train_data_stairs_down, 100 * num_train_data_stairs_down / len(train_reference_df)))\n",
    "    print('')\n",
    "    print('\\tPercentage of total\\t{} ({:.2f}%)'.format(num_train_data, 100 * num_train_data/ total_df_data))\n",
    "    print('')\n",
    "\n",
    "    print('TEST SET')\n",
    "    \n",
    "    print('\\tStand:\\t\\t{} ({:.2f}%)'.format(num_test_data_stand, 100 * num_test_data_stand / len(test_reference_df)))\n",
    "    print('\\tSit:\\t\\t{} ({:.2f}%)'.format(num_test_data_sit, 100 * num_test_data_sit / len(test_reference_df)))\n",
    "    print('\\tWalk:\\t\\t{} ({:.2f}%)'.format(num_test_data_walk, 100 * num_test_data_walk / len(test_reference_df)))\n",
    "    print('\\tBike:\\t\\t{} ({:.2f}%)'.format(num_test_data_bike, 100 * num_test_data_bike / len(test_reference_df)))\n",
    "    print('\\tStairs up:\\t{} ({:.2f}%)'.format(num_test_data_stairs_up, 100 * num_test_data_stairs_up / len(test_reference_df)))\n",
    "    print('\\tStairs down:\\t{} ({:.2f}%)'.format(num_test_data_stairs_down, 100 * num_test_data_stairs_down / len(test_reference_df)))\n",
    "    print('')\n",
    "    print('\\tPercentage of total\\t{} ({:.2f}%)'.format(num_test_data, 100 * num_test_data/ total_df_data))\n",
    "\n",
    "print_dataset_statistics(train_df, test_df)"
   ]
  },
  {
   "cell_type": "code",
   "execution_count": 38,
   "metadata": {},
   "outputs": [],
   "source": [
    "train_df_data = train_df.drop(['user', 'device', 'gt'], 1, inplace=False)\n",
    "train_df_labels = train_df[['user', 'device', 'gt']]\n",
    "\n",
    "test_df_data = test_df.drop(['user', 'device', 'gt'], 1, inplace=False)\n",
    "test_df_labels = test_df[['user', 'device', 'gt']]\n",
    "\n"
   ]
  },
  {
   "cell_type": "code",
   "execution_count": 39,
   "metadata": {},
   "outputs": [
    {
     "output_type": "stream",
     "name": "stdout",
     "text": [
      "            0         1         2         3         4         5         6    \\\n7056  -2.000000 -2.000000 -2.000000 -2.000000 -2.000000 -2.000000 -2.000000   \n7057  -2.000000 -2.000000 -2.000000 -2.000000 -2.000000 -2.000000 -2.000000   \n7058  -2.000000 -2.000000 -2.000000 -2.000000 -2.000000 -2.000000 -2.000000   \n7059  -2.000000 -2.000000 -2.000000 -2.000000 -2.000000 -2.000000 -2.000000   \n7060  -2.000000 -2.000000 -2.000000 -2.000000 -2.000000 -2.000000 -2.000000   \n...         ...       ...       ...       ...       ...       ...       ...   \n21919  0.000000  0.000000 -0.905273  0.000000  1.000000 -1.835531 -5.000000   \n21920 -1.000000 -0.674072  0.000000 -4.334269 -4.000000 -4.000000 -2.653239   \n21921 -4.159871 -4.415894 -3.000000 -1.407572 -1.596598 -2.000000 -1.000000   \n21922 -2.710205 -1.706630 -2.000000 -2.000000 -1.000000 -0.692348  0.000000   \n21923 -2.000000 -1.000000 -1.000000  0.000000  0.000000  0.000000  0.000000   \n\n            7    8         9    ...  362  363  364  365  366  367  368  369  \\\n7056  -2.000000 -2.0 -2.000000  ...  0.0  0.0  0.0  0.0  0.0  0.0  0.0  0.0   \n7057  -2.000000 -2.0 -2.000000  ...  0.0  0.0  0.0  0.0  0.0  0.0  0.0  0.0   \n7058  -2.000000 -2.0 -2.000000  ...  0.0  0.0  0.0  0.0  0.0  0.0  0.0  0.0   \n7059  -2.000000 -2.0 -2.000000  ...  0.0  0.0  0.0  0.0  0.0  0.0  0.0  0.0   \n7060  -2.000000 -2.0 -2.000000  ...  0.0  0.0  0.0  0.0  0.0  0.0  0.0  0.0   \n...         ...  ...       ...  ...  ...  ...  ...  ...  ...  ...  ...  ...   \n21919 -5.000000 -3.0 -2.000000  ...  0.0  0.0  0.0  0.0  0.0  0.0  0.0  0.0   \n21920 -1.000000 -2.0 -1.000000  ...  0.0  0.0  0.0  0.0  0.0  0.0  0.0  0.0   \n21921  0.000000  0.0  0.000000  ...  0.0  0.0  0.0  0.0  0.0  0.0  0.0  0.0   \n21922  0.000000  0.0  0.000000  ...  0.0  0.0  0.0  0.0  0.0  0.0  0.0  0.0   \n21923 -0.463937  0.0  0.456787  ...  0.0  0.0  0.0  0.0  0.0  0.0  0.0  0.0   \n\n            370  371  \n7056   0.000000  0.0  \n7057   0.000000  0.0  \n7058   0.000000  0.0  \n7059   0.000000  0.0  \n7060   0.000000  0.0  \n...         ...  ...  \n21919  0.000000  0.0  \n21920  0.000000  0.0  \n21921 -0.170227  0.0  \n21922  0.000000  0.0  \n21923  0.000000  0.0  \n\n[14868 rows x 372 columns]\n"
     ]
    }
   ],
   "source": [
    "print(train_df_data)"
   ]
  },
  {
   "cell_type": "code",
   "execution_count": 40,
   "metadata": {},
   "outputs": [
    {
     "output_type": "stream",
     "name": "stdout",
     "text": [
      "      user    device     gt\n7056     d  nexus4_1  stand\n7057     d  nexus4_1  stand\n7058     d  nexus4_1  stand\n7059     d  nexus4_1  stand\n7060     d  nexus4_1  stand\n...    ...       ...    ...\n21919    i  s3mini_2   walk\n21920    i  s3mini_2   walk\n21921    i  s3mini_2   walk\n21922    i  s3mini_2   walk\n21923    i  s3mini_2   walk\n\n[14868 rows x 3 columns]\n"
     ]
    }
   ],
   "source": [
    "print(train_df_labels)"
   ]
  },
  {
   "cell_type": "code",
   "execution_count": 41,
   "metadata": {},
   "outputs": [],
   "source": [
    "train_df_data.to_csv('./datasets/heterogenity/train/dataset_25_2.5.csv', header=False, index=False)\n",
    "train_df_labels.to_csv('./datasets/heterogenity/train/dataset_labels_25_2.5.csv', header=True, index=False)\n",
    "test_df_data.to_csv('./datasets/heterogenity/test/dataset_25_2.5.csv', header=False, index=False)\n",
    "test_df_labels.to_csv('./datasets/heterogenity/test/dataset_labels_25_2.5.csv', header=True, index=False)"
   ]
  },
  {
   "cell_type": "code",
   "execution_count": null,
   "metadata": {},
   "outputs": [],
   "source": []
  }
 ]
}